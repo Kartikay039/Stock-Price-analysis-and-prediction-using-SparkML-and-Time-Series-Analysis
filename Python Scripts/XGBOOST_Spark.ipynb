{
  "nbformat": 4,
  "nbformat_minor": 0,
  "metadata": {
    "colab": {
      "provenance": []
    },
    "kernelspec": {
      "name": "python3",
      "display_name": "Python 3"
    },
    "language_info": {
      "name": "python"
    }
  },
  "cells": [
    {
      "cell_type": "code",
      "source": [
        "!pip install sparkxgb"
      ],
      "metadata": {
        "colab": {
          "base_uri": "https://localhost:8080/",
          "height": 517
        },
        "id": "6jNsMhgtXVXX",
        "outputId": "e994ef3d-5b51-4222-d15f-b2e74193dfda"
      },
      "execution_count": 4,
      "outputs": [
        {
          "output_type": "stream",
          "name": "stdout",
          "text": [
            "Collecting sparkxgb\n",
            "  Downloading sparkxgb-0.2.tar.gz (3.9 kB)\n",
            "  Preparing metadata (setup.py) ... \u001b[?25l\u001b[?25hdone\n",
            "Collecting pyspark==3.5.4 (from sparkxgb)\n",
            "  Downloading pyspark-3.5.4.tar.gz (317.3 MB)\n",
            "\u001b[2K     \u001b[90m━━━━━━━━━━━━━━━━━━━━━━━━━━━━━━━━━━━━━━━\u001b[0m \u001b[32m317.3/317.3 MB\u001b[0m \u001b[31m4.6 MB/s\u001b[0m eta \u001b[36m0:00:00\u001b[0m\n",
            "\u001b[?25h  Preparing metadata (setup.py) ... \u001b[?25l\u001b[?25hdone\n",
            "Requirement already satisfied: py4j==0.10.9.7 in /usr/local/lib/python3.11/dist-packages (from pyspark==3.5.4->sparkxgb) (0.10.9.7)\n",
            "Building wheels for collected packages: sparkxgb, pyspark\n",
            "  Building wheel for sparkxgb (setup.py) ... \u001b[?25l\u001b[?25hdone\n",
            "  Created wheel for sparkxgb: filename=sparkxgb-0.2-py3-none-any.whl size=5629 sha256=db9b354b6a50120e23e39af293d639c73335922067aca6eebd4007291f89b178\n",
            "  Stored in directory: /root/.cache/pip/wheels/f9/e5/73/8b34b9b0ba0e0793033077ead4ec8cb93329bcc71d53cfd7fc\n",
            "  Building wheel for pyspark (setup.py) ... \u001b[?25l\u001b[?25hdone\n",
            "  Created wheel for pyspark: filename=pyspark-3.5.4-py2.py3-none-any.whl size=317849769 sha256=727837bad261b178809e5eb98825332c499da32a97baff51e18e772abcf8cf00\n",
            "  Stored in directory: /root/.cache/pip/wheels/8d/28/22/5dbae8a8714ef046cebd320d0ef7c92f5383903cf854c15c0c\n",
            "Successfully built sparkxgb pyspark\n",
            "Installing collected packages: pyspark, sparkxgb\n",
            "  Attempting uninstall: pyspark\n",
            "    Found existing installation: pyspark 3.5.5\n",
            "    Uninstalling pyspark-3.5.5:\n",
            "      Successfully uninstalled pyspark-3.5.5\n",
            "Successfully installed pyspark-3.5.4 sparkxgb-0.2\n"
          ]
        },
        {
          "output_type": "display_data",
          "data": {
            "application/vnd.colab-display-data+json": {
              "pip_warning": {
                "packages": [
                  "pyspark"
                ]
              },
              "id": "27f0706d18c6475f8291ad2fe0149220"
            }
          },
          "metadata": {}
        }
      ]
    },
    {
      "cell_type": "code",
      "execution_count": 8,
      "metadata": {
        "colab": {
          "base_uri": "https://localhost:8080/"
        },
        "id": "KSGdlf1tW0-l",
        "outputId": "1684de87-9a9c-4a94-e367-2ad8e2935002"
      },
      "outputs": [
        {
          "output_type": "stream",
          "name": "stdout",
          "text": [
            "root\n",
            " |-- Date: date (nullable = true)\n",
            " |-- Open: double (nullable = true)\n",
            " |-- High: double (nullable = true)\n",
            " |-- Low: double (nullable = true)\n",
            " |-- Close: double (nullable = true)\n",
            " |-- Volume: integer (nullable = true)\n",
            " |-- Dividends: double (nullable = true)\n",
            " |-- Stock Splits: double (nullable = true)\n",
            " |-- Brand_Name: string (nullable = true)\n",
            " |-- Ticker: string (nullable = true)\n",
            " |-- Industry_Tag: string (nullable = true)\n",
            " |-- Country: string (nullable = true)\n",
            "\n",
            "+----------+--------+--------+--------+------+--------+---------+------------+----------+------+------------+-------+\n",
            "|      Date|    Open|    High|     Low| Close|  Volume|Dividends|Stock Splits|Brand_Name|Ticker|Industry_Tag|Country|\n",
            "+----------+--------+--------+--------+------+--------+---------+------------+----------+------+------------+-------+\n",
            "|2000-01-03|14.96875|15.59375| 14.6875|  15.5| 7843200|      0.0|         0.0|       amd|   AMD|  technology|    usa|\n",
            "|2000-01-04|  15.125|    15.5|14.59375|14.625| 6290200|      0.0|         0.0|       amd|   AMD|  technology|    usa|\n",
            "|2000-01-05|14.53125| 15.0625|    14.0|  15.0| 8204600|      0.0|         0.0|       amd|   AMD|  technology|    usa|\n",
            "|2000-01-06|    15.5|    16.0|   15.25|  16.0|11489400|      0.0|         0.0|       amd|   AMD|  technology|    usa|\n",
            "|2000-01-07|15.40625|16.40625|  15.375| 16.25| 8543400|      0.0|         0.0|       amd|   AMD|  technology|    usa|\n",
            "+----------+--------+--------+--------+------+--------+---------+------------+----------+------+------------+-------+\n",
            "only showing top 5 rows\n",
            "\n",
            "RMSE: 0.9953629528939961\n",
            "R²: 0.9994175996756468\n"
          ]
        }
      ],
      "source": [
        "from pyspark.sql import SparkSession\n",
        "from pyspark.ml.feature import VectorAssembler\n",
        "from sparkxgb import XGBoostRegressor\n",
        "from pyspark.ml.evaluation import RegressionEvaluator\n",
        "\n",
        "# Start Spark session\n",
        "spark = SparkSession.builder \\\n",
        "    .appName(\"XGBoost Spark\") \\\n",
        "    .config(\"spark.jars.packages\", \"ml.dmlc:xgboost4j-spark_2.12:1.6.1\") \\\n",
        "    .getOrCreate()\n",
        "# Load CSV file\n",
        "data_path = \"/content/part-00000-88d747c0-e1c3-4314-bcd6-a3bf54a570b7-c000.csv\"\n",
        "df = spark.read.option(\"header\", True).option(\"inferSchema\", True).csv(data_path)\n",
        "\n",
        "# Show schema and preview\n",
        "df.printSchema()\n",
        "df.show(5)\n",
        "\n",
        "columns_to_drop = [\"Date\", \"Brand_Name\", \"Ticker\", \"Industry_Tag\", \"Country\"]\n",
        "df = df.drop(*columns_to_drop)\n",
        "# Define feature and label columns\n",
        "label_col = 'Close'  # <-- change this if your target variable is named differently\n",
        "feature_cols = [col for col in df.columns if col != label_col]\n",
        "\n",
        "# Assemble features into a vector\n",
        "assembler = VectorAssembler(inputCols=feature_cols, outputCol=\"features\")\n",
        "data = assembler.transform(df).select(\"features\", label_col)\n",
        "\n",
        "# Split into training and test sets\n",
        "train_data, test_data = data.randomSplit([0.8, 0.2], seed=42)\n",
        "\n",
        "# Define XGBoost Regressor\n",
        "xgb = XGBoostRegressor(\n",
        "    featuresCol=\"features\",\n",
        "    labelCol=label_col,\n",
        "    predictionCol=\"prediction\",\n",
        "\n",
        "    objective=\"reg:squarederror\",\n",
        "    numRound=100,\n",
        "    maxDepth=5,\n",
        "    eta=0.1,\n",
        "    numWorkers=2\n",
        ")\n",
        "\n",
        "# Train the model\n",
        "model = xgb.fit(train_data)\n",
        "\n",
        "# Make predictions\n",
        "predictions = model.transform(test_data)\n",
        "\n",
        "# Evaluate the model\n",
        "evaluator = RegressionEvaluator(labelCol=label_col, predictionCol=\"prediction\", metricName=\"rmse\")\n",
        "rmse = evaluator.evaluate(predictions)\n",
        "r2 = evaluator.setMetricName(\"r2\").evaluate(predictions)\n",
        "\n",
        "print(f\"RMSE: {rmse}\")\n",
        "print(f\"R²: {r2}\")\n",
        "\n",
        "\n",
        "\n",
        "# Save predictions as CSV for Power BI\n",
        "predictions.select(\"prediction\", label_col).toPandas().to_csv(r\"/content/xgboost.csv\", index=False)"
      ]
    }
  ]
}