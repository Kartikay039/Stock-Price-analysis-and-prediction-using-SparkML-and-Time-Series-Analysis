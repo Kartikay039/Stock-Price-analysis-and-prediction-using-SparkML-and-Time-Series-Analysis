{
  "nbformat": 4,
  "nbformat_minor": 0,
  "metadata": {
    "colab": {
      "provenance": []
    },
    "kernelspec": {
      "name": "python3",
      "display_name": "Python 3"
    },
    "language_info": {
      "name": "python"
    }
  },
  "cells": [
    {
      "cell_type": "code",
      "execution_count": 1,
      "metadata": {
        "colab": {
          "base_uri": "https://localhost:8080/"
        },
        "id": "8Yy_U0SRBGLK",
        "outputId": "fa6e8d5d-afa9-45f2-b7db-6d47692f97c3"
      },
      "outputs": [
        {
          "output_type": "stream",
          "name": "stdout",
          "text": [
            "+----------+--------+--------+--------+------+--------+---------+------------+----------+------+------------+-------+\n",
            "|      Date|    Open|    High|     Low| Close|  Volume|Dividends|Stock Splits|Brand_Name|Ticker|Industry_Tag|Country|\n",
            "+----------+--------+--------+--------+------+--------+---------+------------+----------+------+------------+-------+\n",
            "|2000-01-03|14.96875|15.59375| 14.6875|  15.5| 7843200|      0.0|         0.0|       amd|   AMD|  technology|    usa|\n",
            "|2000-01-04|  15.125|    15.5|14.59375|14.625| 6290200|      0.0|         0.0|       amd|   AMD|  technology|    usa|\n",
            "|2000-01-05|14.53125| 15.0625|    14.0|  15.0| 8204600|      0.0|         0.0|       amd|   AMD|  technology|    usa|\n",
            "|2000-01-06|    15.5|    16.0|   15.25|  16.0|11489400|      0.0|         0.0|       amd|   AMD|  technology|    usa|\n",
            "|2000-01-07|15.40625|16.40625|  15.375| 16.25| 8543400|      0.0|         0.0|       amd|   AMD|  technology|    usa|\n",
            "+----------+--------+--------+--------+------+--------+---------+------------+----------+------+------------+-------+\n",
            "only showing top 5 rows\n",
            "\n"
          ]
        }
      ],
      "source": [
        "from pyspark.sql import SparkSession\n",
        "from pyspark.sql.functions import col, to_date\n",
        "import os\n",
        "\n",
        "# Step 1: Initialize Spark Session\n",
        "spark = SparkSession.builder \\\n",
        "    .appName(\"AMD Stock Analysis\") \\\n",
        "    .getOrCreate()\n",
        "spark._jsc.hadoopConfiguration().set(\"hadoop.native.lib\", \"false\")\n",
        "\n",
        "\n",
        "# Step 2: Load Data\n",
        "file_path = '/content/World-Stock-Prices-Dataset.csv'  # Replace with actual path\n",
        "df = spark.read.option(\"header\", True).option(\"inferSchema\", True).csv(file_path)\n",
        "\n",
        "# Step 3: Filter AMD Data\n",
        "amd_df = df.filter(col(\"Ticker\") == \"AMD\")\n",
        "\n",
        "# Step 4: Drop unnecessary columns\n",
        "amd_df = amd_df.drop(\"Capital Gains\")\n",
        "\n",
        "# Step 5: Convert Date and sort\n",
        "amd_df = amd_df.withColumn(\"Date\", to_date(\"Date\")).orderBy(\"Date\")\n",
        "\n",
        "# Step 6: Save to CSV (for Tableau)\n",
        "output_path = output_path = \"/content/AMD.csv\"\n",
        "amd_df.coalesce(1).write.option(\"header\", True).mode(\"overwrite\").csv(output_path)\n",
        "\n",
        "# Optional: Show sample\n",
        "amd_df.show(5)"
      ]
    }
  ]
}