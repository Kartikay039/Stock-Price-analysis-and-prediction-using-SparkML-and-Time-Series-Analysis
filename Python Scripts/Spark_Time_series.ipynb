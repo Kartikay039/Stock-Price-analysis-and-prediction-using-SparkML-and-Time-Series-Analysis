{
  "nbformat": 4,
  "nbformat_minor": 0,
  "metadata": {
    "colab": {
      "provenance": []
    },
    "kernelspec": {
      "name": "python3",
      "display_name": "Python 3"
    },
    "language_info": {
      "name": "python"
    }
  },
  "cells": [
    {
      "cell_type": "code",
      "source": [
        "!pip install pyspark\n",
        "!pip install arch\n",
        "!pip install statsmodels"
      ],
      "metadata": {
        "colab": {
          "base_uri": "https://localhost:8080/"
        },
        "id": "AX0WOhA3gdWM",
        "outputId": "c908cc6d-9ea0-44b7-a442-7e1d928f55e2"
      },
      "execution_count": 8,
      "outputs": [
        {
          "output_type": "stream",
          "name": "stdout",
          "text": [
            "Requirement already satisfied: pyspark in /usr/local/lib/python3.11/dist-packages (3.5.5)\n",
            "Requirement already satisfied: py4j==0.10.9.7 in /usr/local/lib/python3.11/dist-packages (from pyspark) (0.10.9.7)\n",
            "Requirement already satisfied: arch in /usr/local/lib/python3.11/dist-packages (7.2.0)\n",
            "Requirement already satisfied: numpy>=1.22.3 in /usr/local/lib/python3.11/dist-packages (from arch) (2.0.2)\n",
            "Requirement already satisfied: scipy>=1.8 in /usr/local/lib/python3.11/dist-packages (from arch) (1.14.1)\n",
            "Requirement already satisfied: pandas>=1.4 in /usr/local/lib/python3.11/dist-packages (from arch) (2.2.2)\n",
            "Requirement already satisfied: statsmodels>=0.12 in /usr/local/lib/python3.11/dist-packages (from arch) (0.14.4)\n",
            "Requirement already satisfied: python-dateutil>=2.8.2 in /usr/local/lib/python3.11/dist-packages (from pandas>=1.4->arch) (2.8.2)\n",
            "Requirement already satisfied: pytz>=2020.1 in /usr/local/lib/python3.11/dist-packages (from pandas>=1.4->arch) (2025.2)\n",
            "Requirement already satisfied: tzdata>=2022.7 in /usr/local/lib/python3.11/dist-packages (from pandas>=1.4->arch) (2025.2)\n",
            "Requirement already satisfied: patsy>=0.5.6 in /usr/local/lib/python3.11/dist-packages (from statsmodels>=0.12->arch) (1.0.1)\n",
            "Requirement already satisfied: packaging>=21.3 in /usr/local/lib/python3.11/dist-packages (from statsmodels>=0.12->arch) (24.2)\n",
            "Requirement already satisfied: six>=1.5 in /usr/local/lib/python3.11/dist-packages (from python-dateutil>=2.8.2->pandas>=1.4->arch) (1.17.0)\n",
            "Requirement already satisfied: statsmodels in /usr/local/lib/python3.11/dist-packages (0.14.4)\n",
            "Requirement already satisfied: numpy<3,>=1.22.3 in /usr/local/lib/python3.11/dist-packages (from statsmodels) (2.0.2)\n",
            "Requirement already satisfied: scipy!=1.9.2,>=1.8 in /usr/local/lib/python3.11/dist-packages (from statsmodels) (1.14.1)\n",
            "Requirement already satisfied: pandas!=2.1.0,>=1.4 in /usr/local/lib/python3.11/dist-packages (from statsmodels) (2.2.2)\n",
            "Requirement already satisfied: patsy>=0.5.6 in /usr/local/lib/python3.11/dist-packages (from statsmodels) (1.0.1)\n",
            "Requirement already satisfied: packaging>=21.3 in /usr/local/lib/python3.11/dist-packages (from statsmodels) (24.2)\n",
            "Requirement already satisfied: python-dateutil>=2.8.2 in /usr/local/lib/python3.11/dist-packages (from pandas!=2.1.0,>=1.4->statsmodels) (2.8.2)\n",
            "Requirement already satisfied: pytz>=2020.1 in /usr/local/lib/python3.11/dist-packages (from pandas!=2.1.0,>=1.4->statsmodels) (2025.2)\n",
            "Requirement already satisfied: tzdata>=2022.7 in /usr/local/lib/python3.11/dist-packages (from pandas!=2.1.0,>=1.4->statsmodels) (2025.2)\n",
            "Requirement already satisfied: six>=1.5 in /usr/local/lib/python3.11/dist-packages (from python-dateutil>=2.8.2->pandas!=2.1.0,>=1.4->statsmodels) (1.17.0)\n"
          ]
        }
      ]
    },
    {
      "cell_type": "code",
      "execution_count": 9,
      "metadata": {
        "id": "0Ndkdh-7gUo4"
      },
      "outputs": [],
      "source": [
        "# PySpark & Pandas Setup\n",
        "from pyspark.sql import SparkSession\n",
        "import pandas as pd\n",
        "import numpy as np\n",
        "\n",
        "# Modeling & Metrics\n",
        "from statsmodels.tsa.arima.model import ARIMA\n",
        "from statsmodels.tsa.holtwinters import ExponentialSmoothing\n",
        "from arch import arch_model\n",
        "from statsmodels.tsa.api import VAR\n",
        "from sklearn.metrics import mean_squared_error, mean_absolute_error, r2_score\n",
        "\n",
        "# Start Spark Session\n",
        "spark = SparkSession.builder \\\n",
        "    .appName(\"Spark_TimeSeries_Models\") \\\n",
        "    .getOrCreate()\n",
        "\n",
        "# Load data\n",
        "data_path = \"/content/part-00000-88d747c0-e1c3-4314-bcd6-a3bf54a570b7-c000.csv\" # change to your file path\n",
        "df = spark.read.option(\"header\", True).option(\"inferSchema\", True).csv(data_path)\n",
        "\n",
        "# Prepare Data\n",
        "df = df.select(\"Date\", \"Close\", \"Open\", \"Volume\").orderBy(\"Date\")\n",
        "pdf = df.toPandas()\n",
        "pdf[\"Date\"] = pd.to_datetime(pdf[\"Date\"])\n",
        "pdf.set_index(\"Date\", inplace=True)\n",
        "pdf = pdf.sort_index()\n",
        "\n"
      ]
    },
    {
      "cell_type": "code",
      "source": [
        "# Use last 30 values as test set\n",
        "train_close = pdf[\"Close\"].iloc[:-30]\n",
        "test_close = pdf[\"Close\"].iloc[-30:]\n",
        "\n",
        "# For VAR\n",
        "train_var = pdf[[\"Close\", \"Open\", \"Volume\"]].iloc[:-30]\n",
        "test_var = pdf[[\"Close\", \"Open\", \"Volume\"]].iloc[-30:]\n"
      ],
      "metadata": {
        "id": "GnVyMkE1gdaV"
      },
      "execution_count": 22,
      "outputs": []
    },
    {
      "cell_type": "code",
      "source": [
        "arima_model = ARIMA(train_close, order=(4, 0, 1))\n",
        "arima_result = arima_model.fit()\n",
        "arima_forecast = arima_result.forecast(steps=30)\n",
        "\n",
        "# Evaluation\n",
        "mse = mean_squared_error(test_close, arima_forecast)\n",
        "rmse = np.sqrt(mse)\n",
        "mae = mean_absolute_error(test_close, arima_forecast)\n",
        "\n",
        "r2 = r2_score(test_close, arima_forecast)\n",
        "\n",
        "print(f\"[ARIMA] RMSE: {rmse}\\n MSE: {mse}\\n MAE: {mae}\\n R²: {r2}\\n\")\n",
        "results_df = pd.DataFrame({\n",
        "    'Date': test_close.index,\n",
        "    'Actual': test_close.values,           # Replace 'y' with actual column name\n",
        "    'Forecast': arima_forecast\n",
        "})\n",
        "\n",
        "results_df.to_csv('arima_forecast.csv', index=False)\n",
        "\n",
        "\n",
        "\n"
      ],
      "metadata": {
        "colab": {
          "base_uri": "https://localhost:8080/"
        },
        "id": "XbmiZz-DgdYA",
        "outputId": "4bfcd283-f065-48b2-e89f-4101dad07b91"
      },
      "execution_count": 16,
      "outputs": [
        {
          "output_type": "stream",
          "name": "stderr",
          "text": [
            "/usr/local/lib/python3.11/dist-packages/statsmodels/tsa/base/tsa_model.py:473: ValueWarning: A date index has been provided, but it has no associated frequency information and so will be ignored when e.g. forecasting.\n",
            "  self._init_dates(dates, freq)\n",
            "/usr/local/lib/python3.11/dist-packages/statsmodels/tsa/base/tsa_model.py:473: ValueWarning: A date index has been provided, but it has no associated frequency information and so will be ignored when e.g. forecasting.\n",
            "  self._init_dates(dates, freq)\n",
            "/usr/local/lib/python3.11/dist-packages/statsmodels/tsa/base/tsa_model.py:473: ValueWarning: A date index has been provided, but it has no associated frequency information and so will be ignored when e.g. forecasting.\n",
            "  self._init_dates(dates, freq)\n"
          ]
        },
        {
          "output_type": "stream",
          "name": "stdout",
          "text": [
            "[ARIMA] RMSE: 6.401788253161106\n",
            " MSE: 40.98289283831152\n",
            " MAE: 5.557801422751388\n",
            " R²: -1.0837619597122141\n",
            "\n"
          ]
        },
        {
          "output_type": "stream",
          "name": "stderr",
          "text": [
            "/usr/local/lib/python3.11/dist-packages/statsmodels/tsa/base/tsa_model.py:837: ValueWarning: No supported index is available. Prediction results will be given with an integer index beginning at `start`.\n",
            "  return get_prediction_index(\n",
            "/usr/local/lib/python3.11/dist-packages/statsmodels/tsa/base/tsa_model.py:837: FutureWarning: No supported index is available. In the next version, calling this method in a model without a supported index will result in an exception.\n",
            "  return get_prediction_index(\n"
          ]
        }
      ]
    },
    {
      "cell_type": "code",
      "source": [
        "exp_model = ExponentialSmoothing(train_close, trend='add', seasonal=None)\n",
        "exp_result = exp_model.fit()\n",
        "exp_forecast = exp_result.forecast(30)\n",
        "\n",
        "mse = mean_squared_error(test_close, exp_forecast)\n",
        "rmse = np.sqrt(mse)\n",
        "mae = mean_absolute_error(test_close, exp_forecast)\n",
        "\n",
        "r2 = r2_score(test_close, exp_forecast)\n",
        "\n",
        "print(f\"[Exponential Smoothing] RMSE: {rmse}\\n MSE: {mse}\\n MAE: {mae}\\n R²: {r2}\")\n",
        "results_df = pd.DataFrame({\n",
        "    'Date': test_close.index,\n",
        "    'Actual': test_close.values,           # Replace 'y' with actual column name\n",
        "    'Forecast': exp_forecast\n",
        "})\n",
        "results_df.to_csv('exponential_smoothing_forecast.csv', index=False)\n",
        "\n",
        "\n"
      ],
      "metadata": {
        "colab": {
          "base_uri": "https://localhost:8080/"
        },
        "id": "oOX03yGLgdS6",
        "outputId": "f4c4714c-25ec-4fc6-91f9-504adee0abbf"
      },
      "execution_count": 19,
      "outputs": [
        {
          "output_type": "stream",
          "name": "stdout",
          "text": [
            "[Exponential Smoothing] RMSE: 6.905262471050182\n",
            " MSE: 47.68264979409407\n",
            " MAE: 6.23476110092094\n",
            " R²: -1.4244089398767348\n"
          ]
        },
        {
          "output_type": "stream",
          "name": "stderr",
          "text": [
            "/usr/local/lib/python3.11/dist-packages/statsmodels/tsa/base/tsa_model.py:473: ValueWarning: A date index has been provided, but it has no associated frequency information and so will be ignored when e.g. forecasting.\n",
            "  self._init_dates(dates, freq)\n",
            "/usr/local/lib/python3.11/dist-packages/statsmodels/tsa/base/tsa_model.py:837: ValueWarning: No supported index is available. Prediction results will be given with an integer index beginning at `start`.\n",
            "  return get_prediction_index(\n",
            "/usr/local/lib/python3.11/dist-packages/statsmodels/tsa/base/tsa_model.py:837: FutureWarning: No supported index is available. In the next version, calling this method in a model without a supported index will result in an exception.\n",
            "  return get_prediction_index(\n"
          ]
        }
      ]
    },
    {
      "cell_type": "code",
      "source": [
        "returns = train_close.pct_change().dropna() * 100\n",
        "garch_model = arch_model(returns, vol='Garch', p=1, q=1)\n",
        "garch_result = garch_model.fit(disp=\"off\")\n",
        "garch_forecast = garch_result.forecast(horizon=30)\n",
        "\n",
        "vol_df = garch_forecast.variance.iloc[-1:].T\n",
        "vol_df.columns = [\"forecasted_volatility\"]\n",
        "\n",
        "vol_df.to_csv(\"/content/garch_forecast.csv\")\n",
        "\n",
        "print(\"[GARCH] Forecasted variance for next 30 days saved (no R² applicable).\")\n",
        "\n"
      ],
      "metadata": {
        "colab": {
          "base_uri": "https://localhost:8080/"
        },
        "id": "iEgHFMeWgdPc",
        "outputId": "65e5988c-c912-44f9-fe28-9f7a88d7cb29"
      },
      "execution_count": null,
      "outputs": [
        {
          "output_type": "stream",
          "name": "stdout",
          "text": [
            "[GARCH] Forecasted variance for next 30 days saved (no R² applicable).\n"
          ]
        }
      ]
    },
    {
      "cell_type": "code",
      "source": [
        "import pandas as pd\n",
        "import numpy as np\n",
        "from sklearn.metrics import mean_squared_error, mean_absolute_error\n",
        "from datetime import timedelta\n",
        "\n",
        "# Fit VAR model on the training data\n",
        "var_model = VAR(train_var)\n",
        "var_result = var_model.fit(maxlags=5, ic='aic')\n",
        "\n",
        "# Forecast the next 30 days (for the last month)\n",
        "forecast = var_result.forecast(train_var.values[-var_result.k_ar:], steps=30)\n",
        "forecast_df = pd.DataFrame(forecast, columns=[\"Close\", \"Open\", \"Volume\"])\n",
        "\n",
        "# Assume the actual values for the last 30 days are available in 'test_var'\n",
        "true = test_var[\"Close\"][-30:]\n",
        "pred = forecast_df[\"Close\"]\n",
        "\n",
        "# Metrics for the last 30 days\n",
        "mse = mean_squared_error(true, pred)\n",
        "rmse = np.sqrt(mse)\n",
        "mae = mean_absolute_error(true, pred)\n",
        "\n",
        "# Output metrics\n",
        "print(f\"[VAR] RMSE: {rmse}\\n MSE: {mse}\\n MAE: {mae}\")\n",
        "\n",
        "# Create Date range for the forecast\n",
        "last_date = test_var.index[-30]\n",
        "forecast_dates = [last_date + timedelta(days=i) for i in range(1, 31)]  # 30 days forecast\n",
        "\n",
        "forecast_df['Date'] = forecast_dates\n",
        "forecast_df['Actual'] = true.values  # Actual values for Close\n",
        "\n",
        "# Reorder columns: Date, Actual, Forecast\n",
        "forecast_df = forecast_df[['Date', 'Actual', 'Close']]\n",
        "\n",
        "# Save the forecasted values for Power BI\n",
        "forecast_df.to_csv(\"/content/var_forecast_last_month.csv\", index=False)\n",
        "\n",
        "print(\"[VAR] Last month forecasted values saved.\")\n",
        "\n",
        "\n"
      ],
      "metadata": {
        "colab": {
          "base_uri": "https://localhost:8080/"
        },
        "id": "UqSOUVm4huui",
        "outputId": "1518cd73-a4f7-4a83-f9e2-c086d9963297"
      },
      "execution_count": 28,
      "outputs": [
        {
          "output_type": "stream",
          "name": "stderr",
          "text": [
            "/usr/local/lib/python3.11/dist-packages/statsmodels/tsa/base/tsa_model.py:473: ValueWarning: A date index has been provided, but it has no associated frequency information and so will be ignored when e.g. forecasting.\n",
            "  self._init_dates(dates, freq)\n"
          ]
        },
        {
          "output_type": "stream",
          "name": "stdout",
          "text": [
            "[VAR] RMSE: 6.318502981360787\n",
            " MSE: 39.92347992546515\n",
            " MAE: 5.504881993687263\n",
            "[VAR] Last month forecasted values saved.\n"
          ]
        }
      ]
    }
  ]
}